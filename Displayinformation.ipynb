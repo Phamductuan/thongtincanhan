{
 "cells": [
  {
   "cell_type": "code",
   "execution_count": 2,
   "id": "0f646244",
   "metadata": {},
   "outputs": [
    {
     "name": "stdout",
     "output_type": "stream",
     "text": [
      "Name: Pham Duc Tuan\n",
      "Age: 28\n",
      "Adress: Thanh Tri- Ha Noi\n",
      "Course: Python Fundamentals\n",
      "reason: Love Coding\n"
     ]
    }
   ],
   "source": [
    "print(\"Name: Pham Duc Tuan\")\n",
    "print(\"Age: 28\")\n",
    "print(\"Adress: Thanh Tri- Ha Noi\")\n",
    "print(\"Course: Python Fundamentals\")\n",
    "print(\"reason: Love Coding\")"
   ]
  }
 ],
 "metadata": {
  "kernelspec": {
   "display_name": "Python 3 (ipykernel)",
   "language": "python",
   "name": "python3"
  },
  "language_info": {
   "codemirror_mode": {
    "name": "ipython",
    "version": 3
   },
   "file_extension": ".py",
   "mimetype": "text/x-python",
   "name": "python",
   "nbconvert_exporter": "python",
   "pygments_lexer": "ipython3",
   "version": "3.9.6"
  }
 },
 "nbformat": 4,
 "nbformat_minor": 5
}
